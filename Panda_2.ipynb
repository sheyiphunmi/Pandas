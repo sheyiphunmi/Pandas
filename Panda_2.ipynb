{
 "cells": [
  {
   "attachments": {},
   "cell_type": "markdown",
   "id": "016db8b1",
   "metadata": {},
   "source": [
    "<h1>Pandas DataFrame </h1>"
   ]
  },
  {
   "cell_type": "code",
   "execution_count": 1,
   "id": "756f7871",
   "metadata": {},
   "outputs": [],
   "source": [
    "import pandas as pd"
   ]
  },
  {
   "attachments": {},
   "cell_type": "markdown",
   "id": "5b9acbe4",
   "metadata": {},
   "source": [
    "#### ___Creating Pandas DataFrame___\n",
    " "
   ]
  },
  {
   "cell_type": "code",
   "execution_count": 2,
   "id": "e096998c",
   "metadata": {},
   "outputs": [
    {
     "data": {
      "text/html": [
       "<div>\n",
       "<style scoped>\n",
       "    .dataframe tbody tr th:only-of-type {\n",
       "        vertical-align: middle;\n",
       "    }\n",
       "\n",
       "    .dataframe tbody tr th {\n",
       "        vertical-align: top;\n",
       "    }\n",
       "\n",
       "    .dataframe thead th {\n",
       "        text-align: right;\n",
       "    }\n",
       "</style>\n",
       "<table border=\"1\" class=\"dataframe\">\n",
       "  <thead>\n",
       "    <tr style=\"text-align: right;\">\n",
       "      <th></th>\n",
       "      <th>bikes</th>\n",
       "      <th>pants</th>\n",
       "      <th>watches</th>\n",
       "      <th>shirts</th>\n",
       "      <th>shoes</th>\n",
       "      <th>suits</th>\n",
       "      <th>glasses</th>\n",
       "    </tr>\n",
       "  </thead>\n",
       "  <tbody>\n",
       "    <tr>\n",
       "      <th>store 1</th>\n",
       "      <td>20</td>\n",
       "      <td>30</td>\n",
       "      <td>35</td>\n",
       "      <td>15.0</td>\n",
       "      <td>8</td>\n",
       "      <td>45.0</td>\n",
       "      <td>NaN</td>\n",
       "    </tr>\n",
       "    <tr>\n",
       "      <th>store 2</th>\n",
       "      <td>15</td>\n",
       "      <td>5</td>\n",
       "      <td>10</td>\n",
       "      <td>2.0</td>\n",
       "      <td>5</td>\n",
       "      <td>7.0</td>\n",
       "      <td>50.0</td>\n",
       "    </tr>\n",
       "    <tr>\n",
       "      <th>store 3</th>\n",
       "      <td>20</td>\n",
       "      <td>30</td>\n",
       "      <td>35</td>\n",
       "      <td>NaN</td>\n",
       "      <td>10</td>\n",
       "      <td>NaN</td>\n",
       "      <td>4.0</td>\n",
       "    </tr>\n",
       "  </tbody>\n",
       "</table>\n",
       "</div>"
      ],
      "text/plain": [
       "         bikes  pants  watches  shirts  shoes  suits  glasses\n",
       "store 1     20     30       35    15.0      8   45.0      NaN\n",
       "store 2     15      5       10     2.0      5    7.0     50.0\n",
       "store 3     20     30       35     NaN     10    NaN      4.0"
      ]
     },
     "execution_count": 2,
     "metadata": {},
     "output_type": "execute_result"
    }
   ],
   "source": [
    "# We create a list of Python dictionaries\n",
    "items2 = [{'bikes': 20, 'pants': 30, 'watches': 35, 'shirts': 15, 'shoes':8, 'suits':45},\n",
    "{'watches': 10, 'glasses': 50, 'bikes': 15, 'pants':5, 'shirts': 2, 'shoes':5, 'suits':7},\n",
    "{'bikes': 20, 'pants': 30, 'watches': 35, 'glasses': 4, 'shoes':10}]\n",
    "\n",
    "# We create a DataFrame  and provide the row index\n",
    "store_items = pd.DataFrame(items2, index = ['store 1', 'store 2', 'store 3'])\n",
    "\n",
    "# We display the DataFrame\n",
    "store_items"
   ]
  },
  {
   "attachments": {},
   "cell_type": "markdown",
   "id": "944d908b",
   "metadata": {},
   "source": [
    "#### ___Count NaN values in DataFrame___"
   ]
  },
  {
   "cell_type": "code",
   "execution_count": 38,
   "id": "9fd38be6",
   "metadata": {},
   "outputs": [
    {
     "name": "stdout",
     "output_type": "stream",
     "text": [
      "Number of NaN values in our each column:\n",
      " bikes      False\n",
      "pants      False\n",
      "watches    False\n",
      "shirts      True\n",
      "shoes      False\n",
      "suits       True\n",
      "glasses     True\n",
      "dtype: bool\n",
      "\n",
      "Number of NaN values in our each column:\n",
      " bikes      0\n",
      "pants      0\n",
      "watches    0\n",
      "shirts     1\n",
      "shoes      0\n",
      "suits      1\n",
      "glasses    1\n",
      "dtype: int64\n",
      "\n",
      "\n",
      "Number of NaN values in our DataFrame: 3\n"
     ]
    }
   ],
   "source": [
    "\n",
    "x =  store_items.isnull()\n",
    "print('Number of NaN values in our each column:\\n', x)\n",
    "print()\n",
    "\n",
    "# We count the number of NaN values in each column\n",
    "x =  store_items.isnull().sum()\n",
    "print('Number of NaN values in our each column:\\n', x)\n",
    "print()\n",
    "\n",
    "# We count the number of NaN values in the dataframe\n",
    "x =  store_items.isnull().sum().sum()\n",
    "print('\\nNumber of NaN values in our DataFrame:', x)"
   ]
  },
  {
   "attachments": {},
   "cell_type": "markdown",
   "id": "182d7abc",
   "metadata": {},
   "source": [
    "####  ___Count the total non-NaN values___"
   ]
  },
  {
   "cell_type": "code",
   "execution_count": 10,
   "id": "bad9971a",
   "metadata": {},
   "outputs": [
    {
     "name": "stdout",
     "output_type": "stream",
     "text": [
      "Number of non-NaN values in the columns of our DataFrame:\n",
      " bikes      3\n",
      "pants      3\n",
      "watches    3\n",
      "shirts     2\n",
      "shoes      3\n",
      "suits      2\n",
      "glasses    2\n",
      "dtype: int64\n"
     ]
    }
   ],
   "source": [
    "print('Number of non-NaN values in the columns of our DataFrame:\\n', store_items.count())"
   ]
  },
  {
   "attachments": {},
   "cell_type": "markdown",
   "id": "a482cb1d",
   "metadata": {},
   "source": [
    "#### ___Eliminating NaN Values___\n"
   ]
  },
  {
   "cell_type": "code",
   "execution_count": 11,
   "id": "1f60ca17",
   "metadata": {},
   "outputs": [
    {
     "data": {
      "text/html": [
       "<div>\n",
       "<style scoped>\n",
       "    .dataframe tbody tr th:only-of-type {\n",
       "        vertical-align: middle;\n",
       "    }\n",
       "\n",
       "    .dataframe tbody tr th {\n",
       "        vertical-align: top;\n",
       "    }\n",
       "\n",
       "    .dataframe thead th {\n",
       "        text-align: right;\n",
       "    }\n",
       "</style>\n",
       "<table border=\"1\" class=\"dataframe\">\n",
       "  <thead>\n",
       "    <tr style=\"text-align: right;\">\n",
       "      <th></th>\n",
       "      <th>bikes</th>\n",
       "      <th>pants</th>\n",
       "      <th>watches</th>\n",
       "      <th>shirts</th>\n",
       "      <th>shoes</th>\n",
       "      <th>suits</th>\n",
       "      <th>glasses</th>\n",
       "    </tr>\n",
       "  </thead>\n",
       "  <tbody>\n",
       "    <tr>\n",
       "      <th>store 2</th>\n",
       "      <td>15</td>\n",
       "      <td>5</td>\n",
       "      <td>10</td>\n",
       "      <td>2.0</td>\n",
       "      <td>5</td>\n",
       "      <td>7.0</td>\n",
       "      <td>50.0</td>\n",
       "    </tr>\n",
       "  </tbody>\n",
       "</table>\n",
       "</div>"
      ],
      "text/plain": [
       "         bikes  pants  watches  shirts  shoes  suits  glasses\n",
       "store 2     15      5       10     2.0      5    7.0     50.0"
      ]
     },
     "execution_count": 11,
     "metadata": {},
     "output_type": "execute_result"
    }
   ],
   "source": [
    "store_items.dropna(axis = 0) #drop any row has a NAN\n"
   ]
  },
  {
   "cell_type": "code",
   "execution_count": 12,
   "id": "5344cefd",
   "metadata": {},
   "outputs": [
    {
     "data": {
      "text/html": [
       "<div>\n",
       "<style scoped>\n",
       "    .dataframe tbody tr th:only-of-type {\n",
       "        vertical-align: middle;\n",
       "    }\n",
       "\n",
       "    .dataframe tbody tr th {\n",
       "        vertical-align: top;\n",
       "    }\n",
       "\n",
       "    .dataframe thead th {\n",
       "        text-align: right;\n",
       "    }\n",
       "</style>\n",
       "<table border=\"1\" class=\"dataframe\">\n",
       "  <thead>\n",
       "    <tr style=\"text-align: right;\">\n",
       "      <th></th>\n",
       "      <th>bikes</th>\n",
       "      <th>pants</th>\n",
       "      <th>watches</th>\n",
       "      <th>shoes</th>\n",
       "    </tr>\n",
       "  </thead>\n",
       "  <tbody>\n",
       "    <tr>\n",
       "      <th>store 1</th>\n",
       "      <td>20</td>\n",
       "      <td>30</td>\n",
       "      <td>35</td>\n",
       "      <td>8</td>\n",
       "    </tr>\n",
       "    <tr>\n",
       "      <th>store 2</th>\n",
       "      <td>15</td>\n",
       "      <td>5</td>\n",
       "      <td>10</td>\n",
       "      <td>5</td>\n",
       "    </tr>\n",
       "    <tr>\n",
       "      <th>store 3</th>\n",
       "      <td>20</td>\n",
       "      <td>30</td>\n",
       "      <td>35</td>\n",
       "      <td>10</td>\n",
       "    </tr>\n",
       "  </tbody>\n",
       "</table>\n",
       "</div>"
      ],
      "text/plain": [
       "         bikes  pants  watches  shoes\n",
       "store 1     20     30       35      8\n",
       "store 2     15      5       10      5\n",
       "store 3     20     30       35     10"
      ]
     },
     "execution_count": 12,
     "metadata": {},
     "output_type": "execute_result"
    }
   ],
   "source": [
    "# We drop any columns with NaN values\n",
    "store_items.dropna(axis = 1)"
   ]
  },
  {
   "attachments": {},
   "cell_type": "markdown",
   "id": "518dd20c",
   "metadata": {},
   "source": [
    "Notice that the **.dropna()** method eliminates (drops) the rows or columns with NaN values out of place. \n",
    "\n",
    "This means that the original DataFrame is not modified. You can always remove the desired rows or columns in place by setting the keyword ***inplace = True*** inside the dropna() function."
   ]
  },
  {
   "attachments": {},
   "cell_type": "markdown",
   "id": "f4dd5100",
   "metadata": {},
   "source": [
    "#### ___Substituting NaN Values___\n",
    "\n",
    "\n",
    "- Replace: `dataframe.fillna(newvalue)`\n",
    "- Using the fill methods: <font color='red'>\"ffill\" and \"backfill\" </font>    using `dataframe.fillna(method = 'ffill or backfill, axis = 0 or 1)`\n",
    "\n",
    "- Using linear interpolation: `dataframe.interpolate(method = 'linear', axis)`\n",
    "- <font color='red'>axis = 0</font>  implies across the column and <font color='red'>axis = 1</font>  implies across the rows\n"
   ]
  },
  {
   "cell_type": "code",
   "execution_count": 13,
   "id": "fea3ad49",
   "metadata": {},
   "outputs": [
    {
     "data": {
      "text/html": [
       "<div>\n",
       "<style scoped>\n",
       "    .dataframe tbody tr th:only-of-type {\n",
       "        vertical-align: middle;\n",
       "    }\n",
       "\n",
       "    .dataframe tbody tr th {\n",
       "        vertical-align: top;\n",
       "    }\n",
       "\n",
       "    .dataframe thead th {\n",
       "        text-align: right;\n",
       "    }\n",
       "</style>\n",
       "<table border=\"1\" class=\"dataframe\">\n",
       "  <thead>\n",
       "    <tr style=\"text-align: right;\">\n",
       "      <th></th>\n",
       "      <th>bikes</th>\n",
       "      <th>pants</th>\n",
       "      <th>watches</th>\n",
       "      <th>shirts</th>\n",
       "      <th>shoes</th>\n",
       "      <th>suits</th>\n",
       "      <th>glasses</th>\n",
       "    </tr>\n",
       "  </thead>\n",
       "  <tbody>\n",
       "    <tr>\n",
       "      <th>store 1</th>\n",
       "      <td>20</td>\n",
       "      <td>30</td>\n",
       "      <td>35</td>\n",
       "      <td>15.0</td>\n",
       "      <td>8</td>\n",
       "      <td>45.0</td>\n",
       "      <td>0.0</td>\n",
       "    </tr>\n",
       "    <tr>\n",
       "      <th>store 2</th>\n",
       "      <td>15</td>\n",
       "      <td>5</td>\n",
       "      <td>10</td>\n",
       "      <td>2.0</td>\n",
       "      <td>5</td>\n",
       "      <td>7.0</td>\n",
       "      <td>50.0</td>\n",
       "    </tr>\n",
       "    <tr>\n",
       "      <th>store 3</th>\n",
       "      <td>20</td>\n",
       "      <td>30</td>\n",
       "      <td>35</td>\n",
       "      <td>0.0</td>\n",
       "      <td>10</td>\n",
       "      <td>0.0</td>\n",
       "      <td>4.0</td>\n",
       "    </tr>\n",
       "  </tbody>\n",
       "</table>\n",
       "</div>"
      ],
      "text/plain": [
       "         bikes  pants  watches  shirts  shoes  suits  glasses\n",
       "store 1     20     30       35    15.0      8   45.0      0.0\n",
       "store 2     15      5       10     2.0      5    7.0     50.0\n",
       "store 3     20     30       35     0.0     10    0.0      4.0"
      ]
     },
     "execution_count": 13,
     "metadata": {},
     "output_type": "execute_result"
    }
   ],
   "source": [
    "store_items.fillna(0)\n"
   ]
  },
  {
   "cell_type": "code",
   "execution_count": 14,
   "id": "bef2f325",
   "metadata": {},
   "outputs": [
    {
     "data": {
      "text/html": [
       "<div>\n",
       "<style scoped>\n",
       "    .dataframe tbody tr th:only-of-type {\n",
       "        vertical-align: middle;\n",
       "    }\n",
       "\n",
       "    .dataframe tbody tr th {\n",
       "        vertical-align: top;\n",
       "    }\n",
       "\n",
       "    .dataframe thead th {\n",
       "        text-align: right;\n",
       "    }\n",
       "</style>\n",
       "<table border=\"1\" class=\"dataframe\">\n",
       "  <thead>\n",
       "    <tr style=\"text-align: right;\">\n",
       "      <th></th>\n",
       "      <th>bikes</th>\n",
       "      <th>pants</th>\n",
       "      <th>watches</th>\n",
       "      <th>shirts</th>\n",
       "      <th>shoes</th>\n",
       "      <th>suits</th>\n",
       "      <th>glasses</th>\n",
       "    </tr>\n",
       "  </thead>\n",
       "  <tbody>\n",
       "    <tr>\n",
       "      <th>store 1</th>\n",
       "      <td>20</td>\n",
       "      <td>30</td>\n",
       "      <td>35</td>\n",
       "      <td>15.0</td>\n",
       "      <td>8</td>\n",
       "      <td>45.0</td>\n",
       "      <td>NaN</td>\n",
       "    </tr>\n",
       "    <tr>\n",
       "      <th>store 2</th>\n",
       "      <td>15</td>\n",
       "      <td>5</td>\n",
       "      <td>10</td>\n",
       "      <td>2.0</td>\n",
       "      <td>5</td>\n",
       "      <td>7.0</td>\n",
       "      <td>50.0</td>\n",
       "    </tr>\n",
       "    <tr>\n",
       "      <th>store 3</th>\n",
       "      <td>20</td>\n",
       "      <td>30</td>\n",
       "      <td>35</td>\n",
       "      <td>2.0</td>\n",
       "      <td>10</td>\n",
       "      <td>7.0</td>\n",
       "      <td>4.0</td>\n",
       "    </tr>\n",
       "  </tbody>\n",
       "</table>\n",
       "</div>"
      ],
      "text/plain": [
       "         bikes  pants  watches  shirts  shoes  suits  glasses\n",
       "store 1     20     30       35    15.0      8   45.0      NaN\n",
       "store 2     15      5       10     2.0      5    7.0     50.0\n",
       "store 3     20     30       35     2.0     10    7.0      4.0"
      ]
     },
     "execution_count": 14,
     "metadata": {},
     "output_type": "execute_result"
    }
   ],
   "source": [
    "#method we will try forward-fill ffill\n",
    "# We replace NaN values with the previous value in the column\n",
    "store_items.fillna(method = 'ffill', axis = 0)"
   ]
  },
  {
   "cell_type": "code",
   "execution_count": 15,
   "id": "33935b29",
   "metadata": {},
   "outputs": [
    {
     "data": {
      "text/html": [
       "<div>\n",
       "<style scoped>\n",
       "    .dataframe tbody tr th:only-of-type {\n",
       "        vertical-align: middle;\n",
       "    }\n",
       "\n",
       "    .dataframe tbody tr th {\n",
       "        vertical-align: top;\n",
       "    }\n",
       "\n",
       "    .dataframe thead th {\n",
       "        text-align: right;\n",
       "    }\n",
       "</style>\n",
       "<table border=\"1\" class=\"dataframe\">\n",
       "  <thead>\n",
       "    <tr style=\"text-align: right;\">\n",
       "      <th></th>\n",
       "      <th>bikes</th>\n",
       "      <th>pants</th>\n",
       "      <th>watches</th>\n",
       "      <th>shirts</th>\n",
       "      <th>shoes</th>\n",
       "      <th>suits</th>\n",
       "      <th>glasses</th>\n",
       "    </tr>\n",
       "  </thead>\n",
       "  <tbody>\n",
       "    <tr>\n",
       "      <th>store 1</th>\n",
       "      <td>20.0</td>\n",
       "      <td>30.0</td>\n",
       "      <td>35.0</td>\n",
       "      <td>15.0</td>\n",
       "      <td>8.0</td>\n",
       "      <td>45.0</td>\n",
       "      <td>45.0</td>\n",
       "    </tr>\n",
       "    <tr>\n",
       "      <th>store 2</th>\n",
       "      <td>15.0</td>\n",
       "      <td>5.0</td>\n",
       "      <td>10.0</td>\n",
       "      <td>2.0</td>\n",
       "      <td>5.0</td>\n",
       "      <td>7.0</td>\n",
       "      <td>50.0</td>\n",
       "    </tr>\n",
       "    <tr>\n",
       "      <th>store 3</th>\n",
       "      <td>20.0</td>\n",
       "      <td>30.0</td>\n",
       "      <td>35.0</td>\n",
       "      <td>35.0</td>\n",
       "      <td>10.0</td>\n",
       "      <td>10.0</td>\n",
       "      <td>4.0</td>\n",
       "    </tr>\n",
       "  </tbody>\n",
       "</table>\n",
       "</div>"
      ],
      "text/plain": [
       "         bikes  pants  watches  shirts  shoes  suits  glasses\n",
       "store 1   20.0   30.0     35.0    15.0    8.0   45.0     45.0\n",
       "store 2   15.0    5.0     10.0     2.0    5.0    7.0     50.0\n",
       "store 3   20.0   30.0     35.0    35.0   10.0   10.0      4.0"
      ]
     },
     "execution_count": 15,
     "metadata": {},
     "output_type": "execute_result"
    }
   ],
   "source": [
    "store_items.fillna(method = 'ffill', axis = 1)"
   ]
  },
  {
   "cell_type": "code",
   "execution_count": 16,
   "metadata": {},
   "outputs": [
    {
     "data": {
      "text/html": [
       "<div>\n",
       "<style scoped>\n",
       "    .dataframe tbody tr th:only-of-type {\n",
       "        vertical-align: middle;\n",
       "    }\n",
       "\n",
       "    .dataframe tbody tr th {\n",
       "        vertical-align: top;\n",
       "    }\n",
       "\n",
       "    .dataframe thead th {\n",
       "        text-align: right;\n",
       "    }\n",
       "</style>\n",
       "<table border=\"1\" class=\"dataframe\">\n",
       "  <thead>\n",
       "    <tr style=\"text-align: right;\">\n",
       "      <th></th>\n",
       "      <th>bikes</th>\n",
       "      <th>pants</th>\n",
       "      <th>watches</th>\n",
       "      <th>shirts</th>\n",
       "      <th>shoes</th>\n",
       "      <th>suits</th>\n",
       "      <th>glasses</th>\n",
       "    </tr>\n",
       "  </thead>\n",
       "  <tbody>\n",
       "    <tr>\n",
       "      <th>store 1</th>\n",
       "      <td>20.0</td>\n",
       "      <td>30.0</td>\n",
       "      <td>35.0</td>\n",
       "      <td>15.0</td>\n",
       "      <td>8.0</td>\n",
       "      <td>45.0</td>\n",
       "      <td>45.0</td>\n",
       "    </tr>\n",
       "    <tr>\n",
       "      <th>store 2</th>\n",
       "      <td>15.0</td>\n",
       "      <td>5.0</td>\n",
       "      <td>10.0</td>\n",
       "      <td>2.0</td>\n",
       "      <td>5.0</td>\n",
       "      <td>7.0</td>\n",
       "      <td>50.0</td>\n",
       "    </tr>\n",
       "    <tr>\n",
       "      <th>store 3</th>\n",
       "      <td>20.0</td>\n",
       "      <td>30.0</td>\n",
       "      <td>35.0</td>\n",
       "      <td>22.5</td>\n",
       "      <td>10.0</td>\n",
       "      <td>7.0</td>\n",
       "      <td>4.0</td>\n",
       "    </tr>\n",
       "  </tbody>\n",
       "</table>\n",
       "</div>"
      ],
      "text/plain": [
       "         bikes  pants  watches  shirts  shoes  suits  glasses\n",
       "store 1   20.0   30.0     35.0    15.0    8.0   45.0     45.0\n",
       "store 2   15.0    5.0     10.0     2.0    5.0    7.0     50.0\n",
       "store 3   20.0   30.0     35.0    22.5   10.0    7.0      4.0"
      ]
     },
     "execution_count": 16,
     "metadata": {},
     "output_type": "execute_result"
    }
   ],
   "source": [
    "# We replace NaN values by using linear interpolation using row values\n",
    "store_items.interpolate(method = 'linear', axis = 1)"
   ]
  },
  {
   "attachments": {},
   "cell_type": "markdown",
   "id": "a904adb6",
   "metadata": {},
   "source": [
    "###  ___Loading Data into a pandas DataFrame___"
   ]
  },
  {
   "cell_type": "code",
   "execution_count": 33,
   "id": "7f0ba697",
   "metadata": {},
   "outputs": [],
   "source": [
    "df = pd.read_csv('org_name.csv')"
   ]
  },
  {
   "cell_type": "code",
   "execution_count": 34,
   "id": "f7350c07",
   "metadata": {},
   "outputs": [
    {
     "data": {
      "text/html": [
       "<div>\n",
       "<style scoped>\n",
       "    .dataframe tbody tr th:only-of-type {\n",
       "        vertical-align: middle;\n",
       "    }\n",
       "\n",
       "    .dataframe tbody tr th {\n",
       "        vertical-align: top;\n",
       "    }\n",
       "\n",
       "    .dataframe thead th {\n",
       "        text-align: right;\n",
       "    }\n",
       "</style>\n",
       "<table border=\"1\" class=\"dataframe\">\n",
       "  <thead>\n",
       "    <tr style=\"text-align: right;\">\n",
       "      <th></th>\n",
       "      <th>Year</th>\n",
       "      <th>Name</th>\n",
       "      <th>Department</th>\n",
       "      <th>Age</th>\n",
       "      <th>Salary</th>\n",
       "    </tr>\n",
       "  </thead>\n",
       "  <tbody>\n",
       "    <tr>\n",
       "      <th>0</th>\n",
       "      <td>1990</td>\n",
       "      <td>Alice</td>\n",
       "      <td>HR</td>\n",
       "      <td>25</td>\n",
       "      <td>50000</td>\n",
       "    </tr>\n",
       "    <tr>\n",
       "      <th>1</th>\n",
       "      <td>1990</td>\n",
       "      <td>Bob</td>\n",
       "      <td>RD</td>\n",
       "      <td>30</td>\n",
       "      <td>48000</td>\n",
       "    </tr>\n",
       "    <tr>\n",
       "      <th>2</th>\n",
       "      <td>1990</td>\n",
       "      <td>Charlie</td>\n",
       "      <td>Admin</td>\n",
       "      <td>45</td>\n",
       "      <td>55000</td>\n",
       "    </tr>\n",
       "    <tr>\n",
       "      <th>3</th>\n",
       "      <td>1991</td>\n",
       "      <td>Dakota</td>\n",
       "      <td>HR</td>\n",
       "      <td>26</td>\n",
       "      <td>52000</td>\n",
       "    </tr>\n",
       "    <tr>\n",
       "      <th>4</th>\n",
       "      <td>1991</td>\n",
       "      <td>Elsa</td>\n",
       "      <td>RD</td>\n",
       "      <td>31</td>\n",
       "      <td>50000</td>\n",
       "    </tr>\n",
       "  </tbody>\n",
       "</table>\n",
       "</div>"
      ],
      "text/plain": [
       "   Year     Name Department  Age  Salary\n",
       "0  1990    Alice         HR   25   50000\n",
       "1  1990      Bob         RD   30   48000\n",
       "2  1990  Charlie      Admin   45   55000\n",
       "3  1991   Dakota         HR   26   52000\n",
       "4  1991     Elsa         RD   31   50000"
      ]
     },
     "execution_count": 34,
     "metadata": {},
     "output_type": "execute_result"
    }
   ],
   "source": [
    "df.head()"
   ]
  },
  {
   "cell_type": "code",
   "execution_count": 35,
   "id": "64b8aeed",
   "metadata": {},
   "outputs": [
    {
     "data": {
      "text/plain": [
       "(9, 5)"
      ]
     },
     "execution_count": 35,
     "metadata": {},
     "output_type": "execute_result"
    }
   ],
   "source": [
    "df.shape"
   ]
  },
  {
   "cell_type": "code",
   "execution_count": 36,
   "id": "3ed6b1d8",
   "metadata": {},
   "outputs": [
    {
     "data": {
      "text/plain": [
       "Year          False\n",
       "Name          False\n",
       "Department    False\n",
       "Age           False\n",
       "Salary        False\n",
       "dtype: bool"
      ]
     },
     "execution_count": 36,
     "metadata": {},
     "output_type": "execute_result"
    }
   ],
   "source": [
    "df.isnull().any()"
   ]
  },
  {
   "cell_type": "code",
   "execution_count": 39,
   "id": "c603a05a",
   "metadata": {},
   "outputs": [
    {
     "name": "stdout",
     "output_type": "stream",
     "text": [
      "<class 'pandas.core.frame.DataFrame'>\n",
      "RangeIndex: 9 entries, 0 to 8\n",
      "Data columns (total 5 columns):\n",
      " #   Column      Non-Null Count  Dtype \n",
      "---  ------      --------------  ----- \n",
      " 0   Year        9 non-null      int64 \n",
      " 1   Name        9 non-null      object\n",
      " 2   Department  9 non-null      object\n",
      " 3   Age         9 non-null      int64 \n",
      " 4   Salary      9 non-null      int64 \n",
      "dtypes: int64(3), object(2)\n",
      "memory usage: 488.0+ bytes\n"
     ]
    }
   ],
   "source": [
    "df.info()"
   ]
  },
  {
   "cell_type": "code",
   "execution_count": 42,
   "id": "7816f54f",
   "metadata": {},
   "outputs": [
    {
     "data": {
      "text/html": [
       "<div>\n",
       "<style scoped>\n",
       "    .dataframe tbody tr th:only-of-type {\n",
       "        vertical-align: middle;\n",
       "    }\n",
       "\n",
       "    .dataframe tbody tr th {\n",
       "        vertical-align: top;\n",
       "    }\n",
       "\n",
       "    .dataframe thead th {\n",
       "        text-align: right;\n",
       "    }\n",
       "</style>\n",
       "<table border=\"1\" class=\"dataframe\">\n",
       "  <thead>\n",
       "    <tr style=\"text-align: right;\">\n",
       "      <th></th>\n",
       "      <th>count</th>\n",
       "      <th>mean</th>\n",
       "      <th>std</th>\n",
       "      <th>min</th>\n",
       "      <th>25%</th>\n",
       "      <th>50%</th>\n",
       "      <th>75%</th>\n",
       "      <th>max</th>\n",
       "    </tr>\n",
       "  </thead>\n",
       "  <tbody>\n",
       "    <tr>\n",
       "      <th>Year</th>\n",
       "      <td>9.0</td>\n",
       "      <td>1991.000000</td>\n",
       "      <td>0.866025</td>\n",
       "      <td>1990.0</td>\n",
       "      <td>1990.0</td>\n",
       "      <td>1991.0</td>\n",
       "      <td>1992.0</td>\n",
       "      <td>1992.0</td>\n",
       "    </tr>\n",
       "    <tr>\n",
       "      <th>Age</th>\n",
       "      <td>9.0</td>\n",
       "      <td>32.222222</td>\n",
       "      <td>7.870479</td>\n",
       "      <td>25.0</td>\n",
       "      <td>27.0</td>\n",
       "      <td>30.0</td>\n",
       "      <td>32.0</td>\n",
       "      <td>46.0</td>\n",
       "    </tr>\n",
       "    <tr>\n",
       "      <th>Salary</th>\n",
       "      <td>9.0</td>\n",
       "      <td>54333.333333</td>\n",
       "      <td>5147.815070</td>\n",
       "      <td>48000.0</td>\n",
       "      <td>50000.0</td>\n",
       "      <td>52000.0</td>\n",
       "      <td>60000.0</td>\n",
       "      <td>62000.0</td>\n",
       "    </tr>\n",
       "  </tbody>\n",
       "</table>\n",
       "</div>"
      ],
      "text/plain": [
       "        count          mean          std      min      25%      50%      75%  \\\n",
       "Year      9.0   1991.000000     0.866025   1990.0   1990.0   1991.0   1992.0   \n",
       "Age       9.0     32.222222     7.870479     25.0     27.0     30.0     32.0   \n",
       "Salary    9.0  54333.333333  5147.815070  48000.0  50000.0  52000.0  60000.0   \n",
       "\n",
       "            max  \n",
       "Year     1992.0  \n",
       "Age        46.0  \n",
       "Salary  62000.0  "
      ]
     },
     "execution_count": 42,
     "metadata": {},
     "output_type": "execute_result"
    }
   ],
   "source": [
    "df.describe().T"
   ]
  },
  {
   "cell_type": "code",
   "execution_count": 43,
   "metadata": {},
   "outputs": [
    {
     "data": {
      "text/plain": [
       "count        9.000000\n",
       "mean     54333.333333\n",
       "std       5147.815070\n",
       "min      48000.000000\n",
       "25%      50000.000000\n",
       "50%      52000.000000\n",
       "75%      60000.000000\n",
       "max      62000.000000\n",
       "Name: Salary, dtype: float64"
      ]
     },
     "execution_count": 43,
     "metadata": {},
     "output_type": "execute_result"
    }
   ],
   "source": [
    "df['Salary'].describe()"
   ]
  },
  {
   "attachments": {},
   "cell_type": "markdown",
   "metadata": {},
   "source": [
    "#### ___groupby() method___"
   ]
  },
  {
   "cell_type": "code",
   "execution_count": 45,
   "id": "6fd97464",
   "metadata": {},
   "outputs": [
    {
     "data": {
      "text/html": [
       "<div>\n",
       "<style scoped>\n",
       "    .dataframe tbody tr th:only-of-type {\n",
       "        vertical-align: middle;\n",
       "    }\n",
       "\n",
       "    .dataframe tbody tr th {\n",
       "        vertical-align: top;\n",
       "    }\n",
       "\n",
       "    .dataframe thead th {\n",
       "        text-align: right;\n",
       "    }\n",
       "</style>\n",
       "<table border=\"1\" class=\"dataframe\">\n",
       "  <thead>\n",
       "    <tr style=\"text-align: right;\">\n",
       "      <th></th>\n",
       "      <th>Age</th>\n",
       "      <th>Salary</th>\n",
       "    </tr>\n",
       "    <tr>\n",
       "      <th>Year</th>\n",
       "      <th></th>\n",
       "      <th></th>\n",
       "    </tr>\n",
       "  </thead>\n",
       "  <tbody>\n",
       "    <tr>\n",
       "      <th>1990</th>\n",
       "      <td>33.333333</td>\n",
       "      <td>51000.0</td>\n",
       "    </tr>\n",
       "    <tr>\n",
       "      <th>1991</th>\n",
       "      <td>34.333333</td>\n",
       "      <td>54000.0</td>\n",
       "    </tr>\n",
       "    <tr>\n",
       "      <th>1992</th>\n",
       "      <td>29.000000</td>\n",
       "      <td>58000.0</td>\n",
       "    </tr>\n",
       "  </tbody>\n",
       "</table>\n",
       "</div>"
      ],
      "text/plain": [
       "            Age   Salary\n",
       "Year                    \n",
       "1990  33.333333  51000.0\n",
       "1991  34.333333  54000.0\n",
       "1992  29.000000  58000.0"
      ]
     },
     "execution_count": 45,
     "metadata": {},
     "output_type": "execute_result"
    }
   ],
   "source": [
    "# We display the mean age and salary per year\n",
    "\n",
    "df.groupby(['Year']).apply('mean')\n"
   ]
  },
  {
   "cell_type": "code",
   "execution_count": 52,
   "metadata": {},
   "outputs": [
    {
     "data": {
      "text/plain": [
       "Year\n",
       "1990    51000.0\n",
       "1991    54000.0\n",
       "1992    58000.0\n",
       "Name: Salary, dtype: float64"
      ]
     },
     "execution_count": 52,
     "metadata": {},
     "output_type": "execute_result"
    }
   ],
   "source": [
    "# We display the average salary per year\n",
    "df.groupby(['Year'])['Salary'].mean()"
   ]
  },
  {
   "cell_type": "code",
   "execution_count": 55,
   "metadata": {},
   "outputs": [
    {
     "data": {
      "text/plain": [
       "Year\n",
       "1990    153000\n",
       "1991    162000\n",
       "1992    174000\n",
       "Name: Salary, dtype: int64"
      ]
     },
     "execution_count": 55,
     "metadata": {},
     "output_type": "execute_result"
    }
   ],
   "source": [
    "# We display the total amount of money spent in salaries each year\n",
    "df.groupby(['Year'])['Salary'].sum()"
   ]
  },
  {
   "cell_type": "code",
   "execution_count": 56,
   "metadata": {},
   "outputs": [
    {
     "data": {
      "text/html": [
       "<div>\n",
       "<style scoped>\n",
       "    .dataframe tbody tr th:only-of-type {\n",
       "        vertical-align: middle;\n",
       "    }\n",
       "\n",
       "    .dataframe tbody tr th {\n",
       "        vertical-align: top;\n",
       "    }\n",
       "\n",
       "    .dataframe thead th {\n",
       "        text-align: right;\n",
       "    }\n",
       "</style>\n",
       "<table border=\"1\" class=\"dataframe\">\n",
       "  <thead>\n",
       "    <tr style=\"text-align: right;\">\n",
       "      <th></th>\n",
       "      <th>Salary</th>\n",
       "    </tr>\n",
       "    <tr>\n",
       "      <th>Year</th>\n",
       "      <th></th>\n",
       "    </tr>\n",
       "  </thead>\n",
       "  <tbody>\n",
       "    <tr>\n",
       "      <th>1990</th>\n",
       "      <td>153000</td>\n",
       "    </tr>\n",
       "    <tr>\n",
       "      <th>1991</th>\n",
       "      <td>162000</td>\n",
       "    </tr>\n",
       "    <tr>\n",
       "      <th>1992</th>\n",
       "      <td>174000</td>\n",
       "    </tr>\n",
       "  </tbody>\n",
       "</table>\n",
       "</div>"
      ],
      "text/plain": [
       "      Salary\n",
       "Year        \n",
       "1990  153000\n",
       "1991  162000\n",
       "1992  174000"
      ]
     },
     "execution_count": 56,
     "metadata": {},
     "output_type": "execute_result"
    }
   ],
   "source": [
    "# We display the total amount of money spent in salaries each year\n",
    "df.groupby(['Year']).agg({'Salary' : sum})"
   ]
  },
  {
   "cell_type": "code",
   "execution_count": 47,
   "metadata": {},
   "outputs": [
    {
     "data": {
      "text/plain": [
       "Name\n",
       "Alice      50000\n",
       "Bob        48000\n",
       "Charlie    55000\n",
       "Dakota     52000\n",
       "Elsa       50000\n",
       "Frank      60000\n",
       "Grace      60000\n",
       "Hoffman    52000\n",
       "Inaar      62000\n",
       "Name: Salary, dtype: int64"
      ]
     },
     "execution_count": 47,
     "metadata": {},
     "output_type": "execute_result"
    }
   ],
   "source": [
    "# We display the total salary each employee received in all the years they worked for the company\n",
    "df.groupby(['Name'])['Salary'].sum()"
   ]
  },
  {
   "cell_type": "code",
   "execution_count": 48,
   "metadata": {},
   "outputs": [
    {
     "data": {
      "text/plain": [
       "Year  Department\n",
       "1990  Admin          55000\n",
       "      HR             50000\n",
       "      RD             48000\n",
       "1991  Admin          60000\n",
       "      HR             52000\n",
       "      RD             50000\n",
       "1992  Admin         122000\n",
       "      RD             52000\n",
       "Name: Salary, dtype: int64"
      ]
     },
     "execution_count": 48,
     "metadata": {},
     "output_type": "execute_result"
    }
   ],
   "source": [
    "# We display the salary distribution per department per year.\n",
    "df.groupby(['Year', 'Department'])['Salary'].sum()"
   ]
  },
  {
   "cell_type": "code",
   "execution_count": 49,
   "id": "2314c9d9",
   "metadata": {},
   "outputs": [
    {
     "data": {
      "text/html": [
       "<div>\n",
       "<style scoped>\n",
       "    .dataframe tbody tr th:only-of-type {\n",
       "        vertical-align: middle;\n",
       "    }\n",
       "\n",
       "    .dataframe tbody tr th {\n",
       "        vertical-align: top;\n",
       "    }\n",
       "\n",
       "    .dataframe thead th {\n",
       "        text-align: right;\n",
       "    }\n",
       "</style>\n",
       "<table border=\"1\" class=\"dataframe\">\n",
       "  <thead>\n",
       "    <tr style=\"text-align: right;\">\n",
       "      <th></th>\n",
       "      <th>Salary</th>\n",
       "    </tr>\n",
       "    <tr>\n",
       "      <th>Year</th>\n",
       "      <th></th>\n",
       "    </tr>\n",
       "  </thead>\n",
       "  <tbody>\n",
       "    <tr>\n",
       "      <th>1990</th>\n",
       "      <td>153000</td>\n",
       "    </tr>\n",
       "    <tr>\n",
       "      <th>1991</th>\n",
       "      <td>162000</td>\n",
       "    </tr>\n",
       "    <tr>\n",
       "      <th>1992</th>\n",
       "      <td>174000</td>\n",
       "    </tr>\n",
       "  </tbody>\n",
       "</table>\n",
       "</div>"
      ],
      "text/plain": [
       "      Salary\n",
       "Year        \n",
       "1990  153000\n",
       "1991  162000\n",
       "1992  174000"
      ]
     },
     "execution_count": 49,
     "metadata": {},
     "output_type": "execute_result"
    }
   ],
   "source": [
    "\n"
   ]
  },
  {
   "cell_type": "code",
   "execution_count": 31,
   "metadata": {},
   "outputs": [
    {
     "name": "stderr",
     "output_type": "stream",
     "text": [
      "C:\\Users\\sleem\\AppData\\Local\\Temp\\ipykernel_21880\\3511452797.py:47: FutureWarning: Dropping of nuisance columns in DataFrame reductions (with 'numeric_only=None') is deprecated; in a future version this will raise TypeError.  Select only valid columns before calling the reduction.\n",
      "  bb = book_ratings.fillna(book_ratings.mean(), inplace = True)\n"
     ]
    }
   ],
   "source": [
    "import pandas as pd\n",
    "import numpy as np\n",
    "\n",
    "# DO NOT CHANGE THE VARIABLE NAMES\n",
    "\n",
    "# Set the precision of our dataframes to one decimal place.\n",
    "#pd.set_option('precision', 1)\n",
    "\n",
    "# Create a Pandas DataFrame that contains the ratings some users have given to a series of books. \n",
    "# The ratings given are in the range from 1 to 5, with 5 being the best score. \n",
    "# The names of the books, the corresponding authors, and the ratings of each user are given below:\n",
    "\n",
    "books = pd.Series(data = ['Great Expectations', 'Of Mice and Men', 'Romeo and Juliet', 'The Time Machine', 'Alice in Wonderland' ])\n",
    "authors = pd.Series(data = ['Charles Dickens', 'John Steinbeck', 'William Shakespeare', ' H. G. Wells', 'Lewis Carroll' ])\n",
    "\n",
    "# User ratings are in the order of the book titles mentioned above\n",
    "# If a user has not rated all books, Pandas will automatically consider the missing values as NaN.\n",
    "# If a user has mentioned `np.nan` value, then also it means that the user has not yet rated that book.\n",
    "user_1 = pd.Series(data = [3.2, np.nan ,2.5])\n",
    "user_2 = pd.Series(data = [5., 1.3, 4.0, 3.8])\n",
    "user_3 = pd.Series(data = [2.0, 2.3, np.nan, 4])\n",
    "user_4 = pd.Series(data = [4, 3.5, 4, 5, 4.2])\n",
    "\n",
    "\n",
    "# Use the data above to create a Pandas DataFrame that has the following column\n",
    "# labels: 'Author', 'Book Title', 'User 1', 'User 2', 'User 3', 'User 4'. \n",
    "# Let Pandas automatically assign numerical row indices to the DataFrame. \n",
    "\n",
    "# TO DO: Create a dictionary with the data given above\n",
    "dat = {'Book Title' : books, 'Author' : authors,\n",
    "       'User 1' : user_1, 'User 2' : user_2,\n",
    "       'User 3' : user_3, 'User 4' : user_4}\n",
    "\n",
    "# TO DO: Create a Pandas DataFrame using the dictionary created above\n",
    "book_ratings = pd.DataFrame(dat)\n",
    "\n",
    "# TO DO:\n",
    "# If you created the dictionary correctly you should have a Pandas DataFrame\n",
    "# that has column labels: \n",
    "# 'Author', 'Book Title', 'User 1', 'User 2', 'User 3', 'User 4' \n",
    "# and row indices 0 through 4.\n",
    "\n",
    "# Now replace all the NaN values in your DataFrame with the average rating in\n",
    "# each column. Replace the NaN values in place. \n",
    "# HINT: Use the `pandas.DataFrame.fillna(value, inplace = True)` function for substituting the NaN values. \n",
    "# Write your code below:\n",
    "bb = book_ratings.fillna(np.mean(book_ratings, axis = 0), inplace = True)\n",
    "bb\n",
    "\n",
    "#best_rated = book_ratings[(book_ratings ==5).any(axis = 1)]['Book Title']\n",
    "#best\n"
   ]
  }
 ],
 "metadata": {
  "kernelspec": {
   "display_name": "Python 3",
   "language": "python",
   "name": "python3"
  },
  "language_info": {
   "codemirror_mode": {
    "name": "ipython",
    "version": 3
   },
   "file_extension": ".py",
   "mimetype": "text/x-python",
   "name": "python",
   "nbconvert_exporter": "python",
   "pygments_lexer": "ipython3",
   "version": "3.9.11"
  },
  "orig_nbformat": 4,
  "vscode": {
   "interpreter": {
    "hash": "25034407fed5d681614dac11a1c0537e8cb49e3a8883c071303eea01322943d9"
   }
  }
 },
 "nbformat": 4,
 "nbformat_minor": 2
}
